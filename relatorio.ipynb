{
 "cells": [
  {
   "cell_type": "markdown",
   "metadata": {},
   "source": [
    "# Análise de Dados - UFPB\n",
    "\n",
    "**Professor** : Marcus Carvalho\n",
    "\n",
    "Aluno: [Insira seu nome]\n",
    "\n",
    "# Laboratório: Regressão\n",
    "\n",
    "Você deve usar os dados das eleições do TSE para entender os fatores que influenciam a votação dos candidatos usando modelos de regressão e outras análises estatísticas. Nesta atividade, vocês devem concentrar a análise em candidatos a deputado estadual na Paraíba em 2022. Os dados que combinam informações de votação, receitas de campanha e bens dos candidatos estão no arquivo `dados/eleicao_2022_pb_deputado_estadual.csv`. A análise deve ser feita neste relatório Jupyter Notebook. O relatório já possui algumas perguntas a serem respondidas. Use as perguntas como base, mas não fique preso a elas. Você pode fazer novas perguntas e novas análises à vontade.\n",
    "\n",
    "## Carregamento dos dados"
   ]
  },
  {
   "cell_type": "markdown",
   "metadata": {},
   "source": [
    "## Análise exploratória de dados\n",
    "\n",
    "Inicialmente, faça uma análise exploratória das variáveis que você considerar mais importantes para a análise."
   ]
  },
  {
   "cell_type": "code",
   "execution_count": null,
   "metadata": {},
   "outputs": [],
   "source": [
    "# INSIRA SEU CÓDIGO AQUI"
   ]
  },
  {
   "cell_type": "markdown",
   "metadata": {},
   "source": [
    "## Análise das relações entre variáveis\n",
    "\n",
    "Faça uma análise das relações entre as variáveis em questão. Você pode começar\n",
    "com uma análise gráfica das relações entre variáveis, para depois partir para\n",
    "análise de correlação. Explique se existem variáveis com forte impacto no número de votos e na chance do candidato ser eleito."
   ]
  },
  {
   "cell_type": "code",
   "execution_count": null,
   "metadata": {},
   "outputs": [],
   "source": [
    "# INSIRA SEU CÓDIGO AQUI"
   ]
  },
  {
   "cell_type": "markdown",
   "metadata": {},
   "source": [
    "\n",
    "## Análise de regressão \n",
    "\n",
    "Analise a relação entre a quantidade de votos que um candidato recebe com outras variáveis. Você pode começar com regressão linear simples, considerando apenas uma variável por vez, e depois fazer regressão múltipla. Descreva bem as suas conclusões, de forma clara para um público geral.\n"
   ]
  },
  {
   "cell_type": "code",
   "execution_count": null,
   "metadata": {},
   "outputs": [],
   "source": [
    "# INSIRA SEU CÓDIGO AQUI"
   ]
  },
  {
   "cell_type": "markdown",
   "metadata": {},
   "source": [
    "\n",
    "### Exemplos de outras questões que podem ser discutidas\n",
    "\n",
    "- É possível estimar bem se um candidato vai ser eleito ou não com base em outras variáveis (ex: regressão logística com a situação final do candidato)?\n",
    "\n",
    "- Quanto um candidato deve arrecadar no mínimo (receita) para ter mais chance de ser eleito?\n",
    "\n",
    "- Considere um candidato fictício que arrecadou 100 mil reais de receita na campanha. Qual a previsão de votos que ele deve receber? É provável que ele seja eleito?\n",
    "\n",
    "- Você pode pensar em outras questões. Se ficar curioso, também pode explorar dados de outros cargos."
   ]
  }
 ],
 "metadata": {
  "kernelspec": {
   "display_name": "Python 3.9.13 64-bit",
   "language": "python",
   "name": "python3"
  },
  "language_info": {
   "codemirror_mode": {
    "name": "ipython",
    "version": 3
   },
   "file_extension": ".py",
   "mimetype": "text/x-python",
   "name": "python",
   "nbconvert_exporter": "python",
   "pygments_lexer": "ipython3",
   "version": "3.9.13"
  },
  "orig_nbformat": 4,
  "vscode": {
   "interpreter": {
    "hash": "aee8b7b246df8f9039afb4144a1f6fd8d2ca17a180786b69acc140d282b71a49"
   }
  }
 },
 "nbformat": 4,
 "nbformat_minor": 2
}
